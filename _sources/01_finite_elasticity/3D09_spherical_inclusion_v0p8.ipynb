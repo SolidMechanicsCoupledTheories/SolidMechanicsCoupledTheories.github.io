{
 "cells": [
  {
   "cell_type": "markdown",
   "id": "b1ceaa4a-7cea-4f94-8397-8fa453d3549a",
   "metadata": {
    "editable": true,
    "slideshow": {
     "slide_type": ""
    },
    "tags": []
   },
   "source": [
    "# Uniaxial tension of a 3D cube with a spherical inclusion"
   ]
  },
  {
   "cell_type": "markdown",
   "id": "f416a3a7-b57a-4be2-a09a-3d6fb38aeaad",
   "metadata": {
    "editable": true,
    "slideshow": {
     "slide_type": ""
    },
    "tags": []
   },
   "source": [
    "### Units\n",
    "- Length: mm\n",
    "- Mass: kg\n",
    "- Time:  s\n",
    "- Force: milliNewtons\n",
    "- Stress: kPa \n",
    "\n",
    "### Software:\n",
    "- Dolfinx v0.8.0\n",
    "\n",
    "\n",
    "Accompanies the book, \n",
    "- L. Anand, E.M. Stewart, S.A. Chester. _Introduction to coupled theories in solid mechanics_. 2025, in preparation.\n"
   ]
  },
  {
   "cell_type": "markdown",
   "id": "00fe1f71-eab4-49ca-babd-2b44b258bb44",
   "metadata": {},
   "source": [
    "# Import modules"
   ]
  },
  {
   "cell_type": "code",
   "execution_count": 1,
   "id": "6d33ad4a-f75b-449a-9445-1b8358927868",
   "metadata": {},
   "outputs": [],
   "source": [
    "# Import FEnicSx/dolfinx\n",
    "import dolfinx\n",
    "\n",
    "# For numerical arrays\n",
    "import numpy as np\n",
    "\n",
    "# For MPI-based parallelization\n",
    "from mpi4py import MPI\n",
    "comm = MPI.COMM_WORLD\n",
    "rank = comm.Get_rank()\n",
    "\n",
    "# PETSc solvers\n",
    "from petsc4py import PETSc\n",
    "\n",
    "# specific functions from dolfinx modules\n",
    "from dolfinx import fem, mesh, io, plot, log\n",
    "from dolfinx.fem import (Constant, dirichletbc, Function, functionspace, Expression )\n",
    "from dolfinx.fem.petsc import NonlinearProblem\n",
    "from dolfinx.nls.petsc import NewtonSolver\n",
    "from dolfinx.io import VTXWriter, XDMFFile\n",
    "\n",
    "\n",
    "# specific functions from ufl modules\n",
    "import ufl\n",
    "from ufl import (TestFunctions, TrialFunction, Identity, grad, det, div, dev, inv, tr, sqrt, conditional ,\\\n",
    "                 gt, dx, inner, derivative, dot, ln, split)\n",
    "\n",
    "# basix finite elements (necessary for dolfinx v0.8.0)\n",
    "import basix\n",
    "from basix.ufl import element, mixed_element, quadrature_element\n",
    "\n",
    "# Matplotlib for plotting\n",
    "import matplotlib.pyplot as plt\n",
    "plt.close('all')\n",
    "\n",
    "# For timing the code\n",
    "from datetime import datetime\n",
    "\n",
    "\n",
    "# Set level of detail for log messages (integer)\n",
    "# Guide:\n",
    "# CRITICAL  = 50, // errors that may lead to data corruption\n",
    "# ERROR     = 40, // things that HAVE gone wrong\n",
    "# WARNING   = 30, // things that MAY go wrong later\n",
    "# INFO      = 20, // information of general interest (includes solver info)\n",
    "# PROGRESS  = 16, // what's happening (broadly)\n",
    "# TRACE     = 13, // what's happening (in detail)\n",
    "# DBG       = 10  // sundry\n",
    "#\n",
    "log.set_log_level(log.LogLevel.WARNING)"
   ]
  },
  {
   "cell_type": "markdown",
   "id": "8dd1126c-48be-46cb-a1a9-5d4664b76432",
   "metadata": {},
   "source": [
    "# Define geometry"
   ]
  },
  {
   "cell_type": "code",
   "execution_count": 2,
   "id": "fd25aeb7-780b-41c3-917c-0c174798cbc3",
   "metadata": {},
   "outputs": [],
   "source": [
    "# Dimensions of one quarter of hole in plate specimen\n",
    "#\n",
    "length = 10.0   # Side length in mm\n",
    "\n",
    "# Pull in the mesh *.xdmf file and read any named domains in the mesh.\n",
    "with XDMFFile(MPI.COMM_WORLD,\"meshes/sphere_inclusion.xdmf\",'r') as infile:\n",
    "    domain = infile.read_mesh(name=\"Grid\",xpath=\"/Xdmf/Domain\")\n",
    "    cell_tags = infile.read_meshtags(domain,name=\"Grid\")\n",
    "\n",
    "# Create facet to cell connectivity required to determine boundary facets.\n",
    "domain.topology.create_connectivity(domain.topology.dim, domain.topology.dim-1)\n",
    "\n",
    "x = ufl.SpatialCoordinate(domain)"
   ]
  },
  {
   "cell_type": "markdown",
   "id": "8a976f70",
   "metadata": {},
   "source": [
    "**Identify boundaries of the domain**"
   ]
  },
  {
   "cell_type": "code",
   "execution_count": 3,
   "id": "9da69709",
   "metadata": {},
   "outputs": [],
   "source": [
    "# Identify the planar boundaries of the  box mesh\n",
    "#\n",
    "def xBot(x):\n",
    "    return np.isclose(x[0], 0)\n",
    "def xTop(x):\n",
    "    return np.isclose(x[0], length)\n",
    "def yBot(x):\n",
    "    return np.isclose(x[1], 0)\n",
    "def yTop(x):\n",
    "    return np.isclose(x[1], length)\n",
    "def zBot(x):\n",
    "    return np.isclose(x[2], 0)\n",
    "def zTop(x):\n",
    "    return np.isclose(x[2], length)\n",
    "    \n",
    "# Mark the sub-domains\n",
    "boundaries = [(1, xBot),(2,xTop),(3,yBot),(4,yTop),(5,zBot),(6,zTop)]\n",
    "\n",
    "# build collections of facets on each subdomain and mark them appropriately.\n",
    "facet_indices, facet_markers = [], [] # initalize empty collections of indices and markers.\n",
    "fdim = domain.topology.dim - 1 # geometric dimension of the facet (mesh dimension - 1)\n",
    "for (marker, locator) in boundaries:\n",
    "    facets = mesh.locate_entities(domain, fdim, locator) # an array of all the facets in a \n",
    "                                                         # given subdomain (\"locator\")\n",
    "    facet_indices.append(facets)                         # add these facets to the collection.\n",
    "    facet_markers.append(np.full_like(facets, marker))   # mark them with the appropriate index.\n",
    "\n",
    "# Format the facet indices and markers as required for use in dolfinx.\n",
    "facet_indices = np.hstack(facet_indices).astype(np.int32)\n",
    "facet_markers = np.hstack(facet_markers).astype(np.int32)\n",
    "sorted_facets = np.argsort(facet_indices)\n",
    "# \n",
    "# Add these marked facets as \"mesh tags\" for later use in BCs.\n",
    "facet_tags = mesh.meshtags(domain, fdim, facet_indices[sorted_facets], facet_markers[sorted_facets])"
   ]
  },
  {
   "cell_type": "markdown",
   "id": "6fbef317",
   "metadata": {},
   "source": [
    "**Print out the unique facet index numbers**"
   ]
  },
  {
   "cell_type": "code",
   "execution_count": 4,
   "id": "3f88fde0",
   "metadata": {},
   "outputs": [
    {
     "name": "stdout",
     "output_type": "stream",
     "text": [
      "[1 2 3 4 5 6]\n"
     ]
    }
   ],
   "source": [
    "top_imap = domain.topology.index_map(2)      # index map of 2D entities in domain (facets)\n",
    "values = np.zeros(top_imap.size_global)      # an array of zeros of the same size as number of 2D entities\n",
    "values[facet_tags.indices]=facet_tags.values # populating the array with facet tag index numbers\n",
    "print(np.unique(facet_tags.values))          # printing the unique indices\n",
    "\n",
    "# Surface numbering:\n",
    "# boundaries = [(1, xBot),(2,xTop),(3,yBot),(4,yTop),(5,zBot),(6,zTop)]\n",
    "\n",
    "# Volume numbering:\n",
    "# Physical Volume(\"inclusion\", 32) = {2};\n",
    "# Physical Volume(\"matrix\", 33) = {1};"
   ]
  },
  {
   "cell_type": "markdown",
   "id": "37e6fd4c",
   "metadata": {},
   "source": [
    "**Visualize reference configuration and boundary facets**"
   ]
  },
  {
   "cell_type": "code",
   "execution_count": 5,
   "id": "3dd2f65f",
   "metadata": {},
   "outputs": [
    {
     "data": {
      "application/vnd.jupyter.widget-view+json": {
       "model_id": "f1967dc9edbc4309b88d312789daec24",
       "version_major": 2,
       "version_minor": 0
      },
      "text/plain": [
       "EmbeddableWidget(value='<iframe srcdoc=\"<!DOCTYPE html>\\n<html>\\n  <head>\\n    <meta http-equiv=&quot;Content-…"
      ]
     },
     "metadata": {},
     "output_type": "display_data"
    }
   ],
   "source": [
    "import pyvista\n",
    "pyvista.set_jupyter_backend('html')\n",
    "from dolfinx.plot import vtk_mesh\n",
    "pyvista.start_xvfb()\n",
    "\n",
    "# initialize a plotter\n",
    "plotter = pyvista.Plotter()\n",
    "\n",
    "# Add the 3D mesh domains\n",
    "inclusion = pyvista.UnstructuredGrid(*vtk_mesh(domain, domain.topology.dim,cell_tags.indices[cell_tags.values==32]) )\n",
    "matrix    = pyvista.UnstructuredGrid(*vtk_mesh(domain, domain.topology.dim,cell_tags.indices[cell_tags.values==33]) )\n",
    "# \n",
    "actor1 = plotter.add_mesh(inclusion, show_edges=True,color= \"red\") # inclusion material is red\n",
    "actor2 = plotter.add_mesh(matrix, show_edges=True,color=\"blue\") # matrix material is blue\n",
    "\n",
    "labels = dict(zlabel='Z', xlabel='X', ylabel='Y')\n",
    "plotter.add_axes(**labels)\n",
    "\n",
    "# turn the camera around so that the inclusion is visible\n",
    "plotter.camera.azimuth = 180.0\n",
    "\n",
    "if not pyvista.OFF_SCREEN:\n",
    "    plotter.show()\n",
    "else:\n",
    "    plotter.screenshot(\"mesh.png\")"
   ]
  },
  {
   "cell_type": "markdown",
   "id": "0c5ab77d-d115-4a34-82a2-caef79998b94",
   "metadata": {},
   "source": [
    "## Define boundary and volume integration measure"
   ]
  },
  {
   "cell_type": "code",
   "execution_count": 6,
   "id": "950959cb-7f79-4e8f-9110-15bfcabbea5f",
   "metadata": {},
   "outputs": [],
   "source": [
    "# Define the boundary integration measure \"ds\" using the facet tags,\n",
    "# also specify the number of surface quadrature points.\n",
    "ds = ufl.Measure('ds', domain=domain, subdomain_data=facet_tags, metadata={'quadrature_degree':4})\n",
    "\n",
    "# Define the volume integration measure \"dx\" using the cell tags,\n",
    "# also specify the number of volume quadrature points.\n",
    "dx = ufl.Measure('dx', domain=domain, subdomain_data=cell_tags, metadata={'quadrature_degree': 4})\n",
    "\n",
    "#  Define facet normal\n",
    "n = ufl.FacetNormal(domain)"
   ]
  },
  {
   "cell_type": "markdown",
   "id": "faf9b320-f53b-4f1d-9021-6868e4bc405e",
   "metadata": {},
   "source": [
    "# Material parameters\n",
    "-Arruda-Boyce model"
   ]
  },
  {
   "cell_type": "code",
   "execution_count": 7,
   "id": "3293420e",
   "metadata": {},
   "outputs": [],
   "source": [
    "# The two different shear modulus values (just floats for now):\n",
    "Gshear_0_matrix   = Constant(domain,PETSc.ScalarType(280.0)) # Matrix shear modulus, kPa\n",
    "Gshear_0_inclusion = Constant(domain,PETSc.ScalarType(10*Gshear_0_matrix)) # Matrix shear modulus, kPa\n",
    "#Gshear_0_inclusion = 10*Gshear_0_matrix # Inclusion shear modulus, kPa\n",
    "\n",
    "# Need some extra infrastructure for the spatially-discontinuous material property fields\n",
    "V = functionspace(domain, (\"DG\", 0)) # create a DG0 function space on the domain\n",
    "Gshear_0 = Function(V) # define a ground state shear modulus which lives on this function space.\n",
    "\n",
    "# Now, actualy assign the desired values of shear moduli to the new field.\n",
    "#\n",
    "coords = V.tabulate_dof_coordinates()\n",
    "#\n",
    "# loop over the coordinates and assign the relevant material property, \n",
    "# based on the local cell tag number.\n",
    "for i in range(coords.shape[0]):\n",
    "    if cell_tags.values[i] == 32:\n",
    "        Gshear_0.vector.setValueLocal(i, Gshear_0_inclusion)\n",
    "    else:\n",
    "        Gshear_0.vector.setValueLocal(i, Gshear_0_matrix)\n",
    "        \n",
    "# Volume numbering:\n",
    "# Physical Volume(\"inclusion\", 32) = {2};\n",
    "# Physical Volume(\"matrix\", 33) = {1};\n",
    "\n",
    "# Now for the other material properties\n",
    "lambdaL  = Constant(domain,PETSc.ScalarType(5.12))  # Locking stretch, same for both materials\n",
    "Kbulk    = 1000.0*Gshear_0 # the bulk modulus is still 1000x the (spatially-varying) shear modulus.\n"
   ]
  },
  {
   "cell_type": "markdown",
   "id": "c42d6351",
   "metadata": {},
   "source": [
    "## Showing the material properties in a plotter "
   ]
  },
  {
   "cell_type": "code",
   "execution_count": 8,
   "id": "ca4a04d6",
   "metadata": {},
   "outputs": [
    {
     "data": {
      "application/vnd.jupyter.widget-view+json": {
       "model_id": "cb57dc5741ad414dac3782033a9bb3e4",
       "version_major": 2,
       "version_minor": 0
      },
      "text/plain": [
       "EmbeddableWidget(value='<iframe srcdoc=\"<!DOCTYPE html>\\n<html>\\n  <head>\\n    <meta http-equiv=&quot;Content-…"
      ]
     },
     "metadata": {},
     "output_type": "display_data"
    }
   ],
   "source": [
    "pyvista.set_jupyter_backend('html')\n",
    "pyvista.start_xvfb()\n",
    "\n",
    "# Prepare the gshear field for plotting\n",
    "V = functionspace(domain,(\"DG\",1)) # for some reason, we need a degree 1 DG function space in order to plot in Pyvista.\n",
    "vtkdata = vtk_mesh(V)  \n",
    "grid = pyvista.UnstructuredGrid(*vtkdata)\n",
    "# \n",
    "grid[\"Gshear\"] = Gshear_0.x.array # interpolate the Gshear_0 data onto the DG1 space.\n",
    "#\n",
    "grid.set_active_scalars(\"Gshear\")\n",
    "actor = plotter.add_mesh(grid, show_edges=True) # plot Gshear_0 values.\n",
    "\n",
    "labels = dict(zlabel='Z', xlabel='X', ylabel='Y')\n",
    "plotter.add_axes(**labels)\n",
    "\n",
    "# turn the camera around so that the inclusion is visible\n",
    "plotter.camera.azimuth = 180.0\n",
    "\n",
    "if not pyvista.OFF_SCREEN:\n",
    "    plotter.show()\n",
    "else:\n",
    "    plotter.screenshot(\"mesh.png\")\n"
   ]
  },
  {
   "cell_type": "markdown",
   "id": "189806e1-fe60-4171-9a57-45975e049f11",
   "metadata": {},
   "source": [
    "# Simulation time-control related params"
   ]
  },
  {
   "cell_type": "code",
   "execution_count": 9,
   "id": "ad1649d8-d9d7-47e9-9840-675138f04b84",
   "metadata": {},
   "outputs": [],
   "source": [
    "stretch  = 2.0      # stretch amplitude\n",
    "\n",
    "dispTot  = (stretch-1)*length\n",
    "rate     = 1.e-1\n",
    "Ttot     = (stretch-1)/rate\n",
    "numSteps = 50\n",
    "dt       = Ttot/numSteps  # (fixed) step size\n",
    "t        = 0.0\n",
    "\n",
    "def dispRamp(t):\n",
    "    return dispTot*t/Ttot"
   ]
  },
  {
   "cell_type": "markdown",
   "id": "bc15800a-be86-431b-b83d-7d705dbbaec2",
   "metadata": {},
   "source": [
    "# Function spaces"
   ]
  },
  {
   "cell_type": "code",
   "execution_count": 10,
   "id": "60843083-0ccf-46ae-b60f-1011292e966d",
   "metadata": {},
   "outputs": [],
   "source": [
    "# Define function space, both vectorial and scalar\n",
    "\n",
    "# dolfinx v0.8.0 syntax:   \n",
    "U2 = element(\"Lagrange\", domain.basix_cell(), 2, shape=(3,)) # For displacement\n",
    "P1 = element(\"Lagrange\", domain.basix_cell(), 1)  # For  pressure                                         \n",
    "#\n",
    "TH = mixed_element([U2, P1])     # Taylor-Hood style mixed element\n",
    "ME = functionspace(domain, TH)    # Total space for all DOFs\n",
    "\n",
    "# Define actual functions with the required DOFs\n",
    "w    = Function(ME)\n",
    "u, p = split(w)  # displacement u, pressure p\n",
    "\n",
    "# A copy of functions to store values in the previous step\n",
    "w_old         = Function(ME)\n",
    "u_old,  p_old = split(w_old)   \n",
    "\n",
    "# Define test functions        \n",
    "u_test, p_test = TestFunctions(ME)    \n",
    "\n",
    "# Define trial functions needed for automatic differentiation\n",
    "dw = TrialFunction(ME)                  "
   ]
  },
  {
   "cell_type": "markdown",
   "id": "49d1fe3a-f1a5-43b3-bc00-54da9486331f",
   "metadata": {},
   "source": [
    "# Subroutines for kinematics and constitutive equations"
   ]
  },
  {
   "cell_type": "code",
   "execution_count": 11,
   "id": "022a1496-91f1-4a0b-810a-b079be69379c",
   "metadata": {},
   "outputs": [],
   "source": [
    "# Deformation gradient \n",
    "def F_calc(u):\n",
    "    Id = Identity(3) \n",
    "    F  = Id + grad(u)\n",
    "    return F\n",
    "\n",
    "def lambdaBar_calc(u):\n",
    "    F = F_calc(u)\n",
    "    C = F.T*F\n",
    "    Cdis = J**(-2/3)*C\n",
    "    I1 = tr(Cdis)\n",
    "    lambdaBar = sqrt(I1/3.0)\n",
    "    return lambdaBar\n",
    "\n",
    "def zeta_calc(u):\n",
    "    lambdaBar = lambdaBar_calc(u)\n",
    "    # Use Pade approximation of Langevin inverse\n",
    "    z    = lambdaBar/lambdaL\n",
    "    z    = conditional(gt(z,0.95), 0.95, z) # Keep simulation from blowing up\n",
    "    beta = z*(3.0 - z**2.0)/(1.0 - z**2.0)\n",
    "    zeta = (lambdaL/(3*lambdaBar))*beta\n",
    "    return zeta\n",
    "\n",
    "# Generalized shear modulus for Arruda-Boyce model\n",
    "def Gshear_AB_calc(u):\n",
    "    zeta    = zeta_calc(u)\n",
    "    Gshear  = Gshear_0 * zeta\n",
    "    return Gshear\n",
    "\n",
    "#---------------------------------------------\n",
    "# Subroutine for calculating the Cauchy stress\n",
    "#---------------------------------------------\n",
    "def T_calc(u,p):\n",
    "    Id = Identity(3) \n",
    "    F   = F_calc(u)\n",
    "    J = det(F)\n",
    "    B = F*F.T\n",
    "    Bdis = J**(-2/3)*B\n",
    "    Gshear  = Gshear_AB_calc(u)\n",
    "    T = (1/J)* Gshear * dev(Bdis) - p * Id\n",
    "    return T\n",
    "\n",
    "#----------------------------------------------\n",
    "# Subroutine for calculating the Piola  stress\n",
    "#----------------------------------------------\n",
    "def Piola_calc(u, p):\n",
    "    Id = Identity(3) \n",
    "    F   = F_calc(u)\n",
    "    J = det(F)\n",
    "    #\n",
    "    T   = T_calc(u,p)\n",
    "    #\n",
    "    Tmat   = J * T * inv(F.T)\n",
    "    return Tmat"
   ]
  },
  {
   "cell_type": "markdown",
   "id": "6f67b801-f176-42f1-a95c-dec7c83b497c",
   "metadata": {},
   "source": [
    "# Evaluate kinematics and constitutive relations"
   ]
  },
  {
   "cell_type": "code",
   "execution_count": 12,
   "id": "e303f0b7-9e4a-4f83-a219-67643c1978a8",
   "metadata": {},
   "outputs": [],
   "source": [
    "F =  F_calc(u)  \n",
    "J = det(F)\n",
    "lambdaBar = lambdaBar_calc(u)\n",
    "\n",
    "# Piola stress\n",
    "Tmat = Piola_calc(u, p)"
   ]
  },
  {
   "cell_type": "markdown",
   "id": "a753cce4-3626-4334-9bba-5a75d3d6f87d",
   "metadata": {},
   "source": [
    "# Weak forms"
   ]
  },
  {
   "cell_type": "code",
   "execution_count": 13,
   "id": "aa2c7bf8-6b63-49b7-b0aa-116ea9d25804",
   "metadata": {},
   "outputs": [],
   "source": [
    "# Residuals:\n",
    "# Res_0: Balance of forces (test fxn: u)\n",
    "# Res_1: Coupling pressure (test fxn: p)\n",
    "\n",
    "# The weak form for the equilibrium equation. No body force\n",
    "Res_0 = inner(Tmat , grad(u_test) )*dx\n",
    "\n",
    "# The weak form for the pressure\n",
    "fac_p = ln(J)/J\n",
    "#\n",
    "Res_1 = dot( (p/Kbulk + fac_p), p_test)*dx\n",
    "\n",
    "# Total weak form\n",
    "Res = Res_0 +  Res_1 \n",
    "\n",
    "# Automatic differentiation tangent:\n",
    "a = derivative(Res, w, dw)"
   ]
  },
  {
   "cell_type": "markdown",
   "id": "71ee6f35-8a47-43e2-aa5b-3c4bcb715a8f",
   "metadata": {},
   "source": [
    "# Set-up output files"
   ]
  },
  {
   "cell_type": "code",
   "execution_count": 14,
   "id": "8cbb76cb-6134-4be0-b716-2b19963f645b",
   "metadata": {},
   "outputs": [],
   "source": [
    "# results file name\n",
    "results_name = \"3D_spherical_inclusion\"\n",
    "\n",
    "# Function space for projection of results\n",
    "# v0.8.0 syntax:\n",
    "U1 = element(\"DG\", domain.basix_cell(), 1, shape=(3,)) # For displacement\n",
    "P0 = element(\"DG\", domain.basix_cell(), 1)             # For  pressure  \n",
    "\n",
    "V2 = fem.functionspace(domain, U1) #Vector function space\n",
    "V1 = fem.functionspace(domain, P0) #Scalar function space\n",
    "\n",
    "# fields to write to output file\n",
    "u_vis = Function(V2)\n",
    "u_vis.name = \"disp\"\n",
    "\n",
    "p_vis = Function(V1)\n",
    "p_vis.name = \"p\"\n",
    "\n",
    "J_vis = Function(V1)\n",
    "J_vis.name = \"J\"\n",
    "J_expr = Expression(J,V1.element.interpolation_points())\n",
    "\n",
    "lambdaBar_vis = Function(V1)\n",
    "lambdaBar_vis.name = \"lambdaBar\"\n",
    "lambdaBar_expr = Expression(lambdaBar,V1.element.interpolation_points())\n",
    "\n",
    "P11 = Function(V1)\n",
    "P11.name = \"P11\"\n",
    "P11_expr = Expression(Tmat[0,0],V1.element.interpolation_points())\n",
    "P22 = Function(V1)\n",
    "P22.name = \"P22\"\n",
    "P22_expr = Expression(Tmat[1,1],V1.element.interpolation_points())\n",
    "P33 = Function(V1)\n",
    "P33.name = \"P33\"\n",
    "P33_expr = Expression(Tmat[2,2],V1.element.interpolation_points())\n",
    "\n",
    "T   = Tmat*F.T/J\n",
    "T0   = T - (1/3)*tr(T)*Identity(3)\n",
    "Mises = sqrt((3/2)*inner(T0, T0))\n",
    "Mises_vis= Function(V1,name=\"Mises\")\n",
    "Mises_expr = Expression(Mises,V1.element.interpolation_points())\n",
    "\n",
    "Gshear_vis = Function(V1)\n",
    "Gshear_vis.name = \"Gshear\"\n",
    "Gshear_expr = Expression(Gshear_0,V1.element.interpolation_points())\n",
    "\n",
    "# set up the output VTX files.\n",
    "file_results = VTXWriter(\n",
    "    MPI.COMM_WORLD,\n",
    "    \"results/\" + results_name + \".bp\",\n",
    "    [  # put the functions here you wish to write to output\n",
    "        u_vis, p_vis, J_vis, P11, P22, P33, lambdaBar_vis,\n",
    "        Mises_vis, Gshear_vis,\n",
    "    ],\n",
    "    engine=\"BP4\",\n",
    ")\n",
    "\n",
    "def writeResults(t):\n",
    "       # Output field interpolation \n",
    "       u_vis.interpolate(w.sub(0))\n",
    "       p_vis.interpolate(w.sub(1))\n",
    "       J_vis.interpolate(J_expr)\n",
    "       P11.interpolate(P11_expr)\n",
    "       P22.interpolate(P22_expr)\n",
    "       P33.interpolate(P33_expr)\n",
    "       lambdaBar_vis.interpolate(lambdaBar_expr)\n",
    "       Mises_vis.interpolate(Mises_expr)\n",
    "       Gshear_vis.interpolate(Gshear_expr)\n",
    "       \n",
    "       # Write output fields\n",
    "       file_results.write(t) \n",
    "        "
   ]
  },
  {
   "cell_type": "markdown",
   "id": "6206cf9e-e446-4577-af48-8c8b5f6dc843",
   "metadata": {},
   "source": [
    "# Infrastructure for pulling out time history data (force, displacement, etc.)"
   ]
  },
  {
   "cell_type": "code",
   "execution_count": 15,
   "id": "e8f55f07-25e0-4beb-91d8-4f76e4c79cac",
   "metadata": {},
   "outputs": [],
   "source": [
    "\n",
    "# infrastructure for pulling out displacement at a certain point\n",
    "\n",
    "# v0.8.0 syntax:\n",
    "pointForDisp = np.array([length,length,length])\n",
    "\n",
    "bb_tree = dolfinx.geometry.bb_tree(domain,domain.topology.dim)\n",
    "cell_candidates = dolfinx.geometry.compute_collisions_points(bb_tree, pointForDisp)\n",
    "\n",
    "# v0.7.2 syntax:\n",
    "# colliding_cells = dolfinx.geometry.compute_colliding_cells(domain, cell_candidates, pointForDisp)\n",
    "\n",
    "# v0.8.0 syntax:\n",
    "colliding_cells = dolfinx.geometry.compute_colliding_cells(domain, cell_candidates, pointForDisp).array\n",
    " \n",
    "# computing the reaction force using the stress field\n",
    "area     = Constant(domain,(length*length))\n",
    "engineeringStress = fem.form(P22/area*ds(4)) #P22/area*ds   \n",
    "\n",
    "# Recall the boundary definitions:\n",
    "# boundaries = [(1, xBot),(2,xTop),(3,yBot),(4,yTop),(5,zBot),(6,zTop)]"
   ]
  },
  {
   "cell_type": "markdown",
   "id": "db4f6fae-da3d-4cd4-bc62-92ed02e9c1c7",
   "metadata": {},
   "source": [
    "# Name the analysis step"
   ]
  },
  {
   "cell_type": "code",
   "execution_count": 16,
   "id": "9c8a948f-2cc2-491b-8453-16112c15aa02",
   "metadata": {},
   "outputs": [],
   "source": [
    "# Give the step a descriptive name\n",
    "step = \"Stretch\""
   ]
  },
  {
   "cell_type": "markdown",
   "id": "7f54cbce-1c5d-4ca4-a6d1-7c1f6d8a8f49",
   "metadata": {},
   "source": [
    "## Boundary condtions"
   ]
  },
  {
   "cell_type": "code",
   "execution_count": 17,
   "id": "6eae301e-9bb1-4531-9de4-f5571959e734",
   "metadata": {},
   "outputs": [],
   "source": [
    "# Constant for applied displacement\n",
    "disp_cons = Constant(domain,PETSc.ScalarType(dispRamp(0)))\n",
    "\n",
    "# Find the specific DOFs which will be constrained.\n",
    "xBot_u1_dofs = fem.locate_dofs_topological(ME.sub(0).sub(0), facet_tags.dim, facet_tags.find(1))\n",
    "yBot_u2_dofs = fem.locate_dofs_topological(ME.sub(0).sub(1), facet_tags.dim, facet_tags.find(3))\n",
    "zBot_u3_dofs = fem.locate_dofs_topological(ME.sub(0).sub(2), facet_tags.dim, facet_tags.find(5))\n",
    "yTop_u2_dofs = fem.locate_dofs_topological(ME.sub(0).sub(1), facet_tags.dim, facet_tags.find(4))\n",
    "\n",
    "# building Dirichlet BCs\n",
    "bcs_1 = dirichletbc(0.0, xBot_u1_dofs, ME.sub(0).sub(0))  # u1 fix - xBot\n",
    "bcs_2 = dirichletbc(0.0, yBot_u2_dofs, ME.sub(0).sub(1))  # u2 fix - yBot\n",
    "bcs_3 = dirichletbc(0.0, zBot_u3_dofs, ME.sub(0).sub(2))  # u3 fix - zBot\n",
    "#\n",
    "bcs_4 = dirichletbc(disp_cons, yTop_u2_dofs, ME.sub(0).sub(1))  # disp ramp - yTop\n",
    "\n",
    "bcs = [bcs_1, bcs_2, bcs_3, bcs_4]"
   ]
  },
  {
   "cell_type": "markdown",
   "id": "d51fae0c-f57d-4ab1-9e45-7aab13c2f31c",
   "metadata": {},
   "source": [
    "## Define the nonlinear variational problem"
   ]
  },
  {
   "cell_type": "code",
   "execution_count": 18,
   "id": "329d9f03-2c14-42de-b416-be427e18ffce",
   "metadata": {},
   "outputs": [],
   "source": [
    "# Set up nonlinear problem\n",
    "problem = NonlinearProblem(Res, w, bcs, a)\n",
    "\n",
    "# the global newton solver and params\n",
    "solver = NewtonSolver(MPI.COMM_WORLD, problem)\n",
    "solver.convergence_criterion = \"incremental\"\n",
    "solver.rtol = 1e-8\n",
    "solver.atol = 1e-8\n",
    "solver.max_it = 50\n",
    "solver.report = True\n",
    "\n",
    "#  The Krylov solver parameters.\n",
    "ksp = solver.krylov_solver\n",
    "opts = PETSc.Options()\n",
    "option_prefix = ksp.getOptionsPrefix()\n",
    "opts[f\"{option_prefix}ksp_type\"] = \"preonly\" # \"preonly\" works equally well\n",
    "opts[f\"{option_prefix}pc_type\"] = \"lu\" # do not use 'gamg' pre-conditioner\n",
    "opts[f\"{option_prefix}pc_factor_mat_solver_type\"] = \"mumps\"\n",
    "opts[f\"{option_prefix}ksp_max_it\"] = 30\n",
    "ksp.setFromOptions()\n",
    "\n"
   ]
  },
  {
   "cell_type": "markdown",
   "id": "5fd6413f-551a-4fe2-a2b1-e05bcc01c3cd",
   "metadata": {},
   "source": [
    "##  Start calculation loop"
   ]
  },
  {
   "cell_type": "code",
   "execution_count": 19,
   "id": "762e7f58-0273-4882-a95f-b485a54013e7",
   "metadata": {},
   "outputs": [
    {
     "name": "stdout",
     "output_type": "stream",
     "text": [
      "------------------------------------\n",
      "Simulation Start\n",
      "------------------------------------\n",
      "Step: Stretch | Increment: 1, Iterations: 4\n",
      "      Simulation Time: 0.2 s  of  10.0 s\n",
      "\n",
      "Step: Stretch | Increment: 2, Iterations: 4\n",
      "      Simulation Time: 0.4 s  of  10.0 s\n",
      "\n",
      "Step: Stretch | Increment: 3, Iterations: 4\n",
      "      Simulation Time: 0.6 s  of  10.0 s\n",
      "\n",
      "Step: Stretch | Increment: 4, Iterations: 4\n",
      "      Simulation Time: 0.8 s  of  10.0 s\n",
      "\n",
      "Step: Stretch | Increment: 5, Iterations: 4\n",
      "      Simulation Time: 1.0 s  of  10.0 s\n",
      "\n",
      "Step: Stretch | Increment: 6, Iterations: 4\n",
      "      Simulation Time: 1.2 s  of  10.0 s\n",
      "\n",
      "Step: Stretch | Increment: 7, Iterations: 4\n",
      "      Simulation Time: 1.4 s  of  10.0 s\n",
      "\n",
      "Step: Stretch | Increment: 8, Iterations: 4\n",
      "      Simulation Time: 1.6 s  of  10.0 s\n",
      "\n",
      "Step: Stretch | Increment: 9, Iterations: 4\n",
      "      Simulation Time: 1.8 s  of  10.0 s\n",
      "\n",
      "Step: Stretch | Increment: 10, Iterations: 4\n",
      "      Simulation Time: 2.0 s  of  10.0 s\n",
      "\n",
      "Step: Stretch | Increment: 11, Iterations: 4\n",
      "      Simulation Time: 2.2 s  of  10.0 s\n",
      "\n",
      "Step: Stretch | Increment: 12, Iterations: 4\n",
      "      Simulation Time: 2.4 s  of  10.0 s\n",
      "\n",
      "Step: Stretch | Increment: 13, Iterations: 4\n",
      "      Simulation Time: 2.6 s  of  10.0 s\n",
      "\n",
      "Step: Stretch | Increment: 14, Iterations: 4\n",
      "      Simulation Time: 2.8 s  of  10.0 s\n",
      "\n",
      "Step: Stretch | Increment: 15, Iterations: 4\n",
      "      Simulation Time: 3.0 s  of  10.0 s\n",
      "\n",
      "Step: Stretch | Increment: 16, Iterations: 4\n",
      "      Simulation Time: 3.2 s  of  10.0 s\n",
      "\n",
      "Step: Stretch | Increment: 17, Iterations: 4\n",
      "      Simulation Time: 3.4 s  of  10.0 s\n",
      "\n",
      "Step: Stretch | Increment: 18, Iterations: 4\n",
      "      Simulation Time: 3.6 s  of  10.0 s\n",
      "\n",
      "Step: Stretch | Increment: 19, Iterations: 4\n",
      "      Simulation Time: 3.8 s  of  10.0 s\n",
      "\n",
      "Step: Stretch | Increment: 20, Iterations: 4\n",
      "      Simulation Time: 4.0 s  of  10.0 s\n",
      "\n",
      "Step: Stretch | Increment: 21, Iterations: 4\n",
      "      Simulation Time: 4.2 s  of  10.0 s\n",
      "\n",
      "Step: Stretch | Increment: 22, Iterations: 4\n",
      "      Simulation Time: 4.4 s  of  10.0 s\n",
      "\n",
      "Step: Stretch | Increment: 23, Iterations: 4\n",
      "      Simulation Time: 4.6 s  of  10.0 s\n",
      "\n",
      "Step: Stretch | Increment: 24, Iterations: 4\n",
      "      Simulation Time: 4.8 s  of  10.0 s\n",
      "\n",
      "Step: Stretch | Increment: 25, Iterations: 4\n",
      "      Simulation Time: 5.0 s  of  10.0 s\n",
      "\n",
      "Step: Stretch | Increment: 26, Iterations: 4\n",
      "      Simulation Time: 5.2 s  of  10.0 s\n",
      "\n",
      "Step: Stretch | Increment: 27, Iterations: 4\n",
      "      Simulation Time: 5.4 s  of  10.0 s\n",
      "\n",
      "Step: Stretch | Increment: 28, Iterations: 4\n",
      "      Simulation Time: 5.6 s  of  10.0 s\n",
      "\n",
      "Step: Stretch | Increment: 29, Iterations: 4\n",
      "      Simulation Time: 5.8 s  of  10.0 s\n",
      "\n",
      "Step: Stretch | Increment: 30, Iterations: 4\n",
      "      Simulation Time: 6.0 s  of  10.0 s\n",
      "\n",
      "Step: Stretch | Increment: 31, Iterations: 4\n",
      "      Simulation Time: 6.2 s  of  10.0 s\n",
      "\n",
      "Step: Stretch | Increment: 32, Iterations: 4\n",
      "      Simulation Time: 6.4 s  of  10.0 s\n",
      "\n",
      "Step: Stretch | Increment: 33, Iterations: 4\n",
      "      Simulation Time: 6.6 s  of  10.0 s\n",
      "\n",
      "Step: Stretch | Increment: 34, Iterations: 4\n",
      "      Simulation Time: 6.8 s  of  10.0 s\n",
      "\n",
      "Step: Stretch | Increment: 35, Iterations: 4\n",
      "      Simulation Time: 7.0 s  of  10.0 s\n",
      "\n",
      "Step: Stretch | Increment: 36, Iterations: 4\n",
      "      Simulation Time: 7.2 s  of  10.0 s\n",
      "\n",
      "Step: Stretch | Increment: 37, Iterations: 4\n",
      "      Simulation Time: 7.4 s  of  10.0 s\n",
      "\n",
      "Step: Stretch | Increment: 38, Iterations: 4\n",
      "      Simulation Time: 7.6 s  of  10.0 s\n",
      "\n",
      "Step: Stretch | Increment: 39, Iterations: 4\n",
      "      Simulation Time: 7.8 s  of  10.0 s\n",
      "\n",
      "Step: Stretch | Increment: 40, Iterations: 4\n",
      "      Simulation Time: 8.0 s  of  10.0 s\n",
      "\n",
      "Step: Stretch | Increment: 41, Iterations: 4\n",
      "      Simulation Time: 8.2 s  of  10.0 s\n",
      "\n",
      "Step: Stretch | Increment: 42, Iterations: 4\n",
      "      Simulation Time: 8.4 s  of  10.0 s\n",
      "\n",
      "Step: Stretch | Increment: 43, Iterations: 4\n",
      "      Simulation Time: 8.6 s  of  10.0 s\n",
      "\n",
      "Step: Stretch | Increment: 44, Iterations: 4\n",
      "      Simulation Time: 8.8 s  of  10.0 s\n",
      "\n",
      "Step: Stretch | Increment: 45, Iterations: 4\n",
      "      Simulation Time: 9.0 s  of  10.0 s\n",
      "\n",
      "Step: Stretch | Increment: 46, Iterations: 4\n",
      "      Simulation Time: 9.2 s  of  10.0 s\n",
      "\n",
      "Step: Stretch | Increment: 47, Iterations: 4\n",
      "      Simulation Time: 9.4 s  of  10.0 s\n",
      "\n",
      "Step: Stretch | Increment: 48, Iterations: 4\n",
      "      Simulation Time: 9.6 s  of  10.0 s\n",
      "\n",
      "Step: Stretch | Increment: 49, Iterations: 4\n",
      "      Simulation Time: 9.8 s  of  10.0 s\n",
      "\n",
      "Step: Stretch | Increment: 50, Iterations: 4\n",
      "      Simulation Time: 10.0 s  of  10.0 s\n",
      "\n",
      "-----------------------------------------\n",
      "End computation\n",
      "------------------------------------------\n",
      "Elapsed real time:  0:00:58.553599\n",
      "------------------------------------------\n"
     ]
    }
   ],
   "source": [
    "# Variables for storing time history\n",
    "totSteps = numSteps+1\n",
    "timeHist0 = np.zeros(shape=[totSteps])\n",
    "timeHist1 = np.zeros(shape=[totSteps]) \n",
    "timeHist2 = np.zeros(shape=[totSteps]) \n",
    "\n",
    "#Iinitialize a counter for reporting data\n",
    "ii=0\n",
    "\n",
    "# Write initial state to file\n",
    "writeResults(t=0.0)   \n",
    "\n",
    "# Print out message for simulation start\n",
    "print(\"------------------------------------\")\n",
    "print(\"Simulation Start\")\n",
    "print(\"------------------------------------\")\n",
    "# Store start time \n",
    "startTime = datetime.now()\n",
    "\n",
    "# Time-stepping solution procedure loop\n",
    "while (round(t + dt, 9) <= Ttot):\n",
    "     \n",
    "    # increment time\n",
    "    t += dt \n",
    "    # increment counter\n",
    "    ii += 1\n",
    "    \n",
    "    # update time variables in time-dependent BCs \n",
    "    disp_cons.value = dispRamp(t)\n",
    "    \n",
    "    # Solve the problem\n",
    "    try:\n",
    "        (iter, converged) = solver.solve(w)\n",
    "    except: # Break the loop if solver fails\n",
    "        print(\"Ended Early\")\n",
    "        break\n",
    "    \n",
    "    # Collect results from MPI ghost processes\n",
    "    w.x.scatter_forward()\n",
    "    \n",
    "    # Write output to file\n",
    "    writeResults(t)\n",
    "    \n",
    "    # Update DOFs for next step\n",
    "    w_old.x.array[:] = w.x.array\n",
    "   \n",
    "    # Store  displacement and stress at a particular point  at this time\n",
    "    timeHist0[ii] = w.sub(0).sub(1).eval([length, length, length],colliding_cells[0])[0] # time history of displacement\n",
    "    #\n",
    "    timeHist1[ii] =  domain.comm.gather(fem.assemble_scalar(engineeringStress))[0] # time history of engineering stress\n",
    "   \n",
    "    # Print progress of calculation\n",
    "    if ii%1 == 0:      \n",
    "        now = datetime.now()\n",
    "        current_time = now.strftime(\"%H:%M:%S\")\n",
    "        print(\"Step: {} | Increment: {}, Iterations: {}\".\\\n",
    "              format(step, ii, iter))\n",
    "        print(\"      Simulation Time: {} s  of  {} s\".\\\n",
    "              format(round(t,4), Ttot))\n",
    "        print()  \n",
    "    \n",
    "\n",
    "# close the output file.\n",
    "file_results.close()\n",
    "         \n",
    "# End analysis\n",
    "print(\"-----------------------------------------\")\n",
    "print(\"End computation\")                 \n",
    "# Report elapsed real time for the analysis\n",
    "endTime = datetime.now()\n",
    "elapseTime = endTime - startTime\n",
    "print(\"------------------------------------------\")\n",
    "print(\"Elapsed real time:  {}\".format(elapseTime))\n",
    "print(\"------------------------------------------\")\n"
   ]
  },
  {
   "cell_type": "markdown",
   "id": "f2dac828-7364-444e-994a-8dc738a7ec80",
   "metadata": {},
   "source": [
    "# Plot results"
   ]
  },
  {
   "cell_type": "code",
   "execution_count": 20,
   "id": "b974c77a-3b53-4c3f-a546-06d272d84be1",
   "metadata": {
    "lines_to_next_cell": 0
   },
   "outputs": [
    {
     "data": {
      "image/png": "[encoded data removed]",
      "text/plain": [
       "<Figure size 640x480 with 1 Axes>"
      ]
     },
     "metadata": {},
     "output_type": "display_data"
    },
    {
     "data": {
      "text/plain": [
       "<Figure size 700x500 with 0 Axes>"
      ]
     },
     "metadata": {},
     "output_type": "display_data"
    }
   ],
   "source": [
    "# set plot font to size 14\n",
    "font = {'size'   : 14}\n",
    "plt.rc('font', **font)\n",
    "\n",
    "# Get array of default plot colors\n",
    "prop_cycle = plt.rcParams['axes.prop_cycle']\n",
    "colors = prop_cycle.by_key()['color']\n",
    "\n",
    "#plt.figure()\n",
    "plt.plot((length + timeHist0)/length, timeHist1/1e3, linewidth=2.0,\\\n",
    "         color=colors[0], marker='.')\n",
    "plt.axis('tight')\n",
    "plt.ylabel(r'$P_{22}$, MPa')\n",
    "plt.xlabel(r'$\\lambda$')\n",
    "# plt.xlim([1,8])\n",
    "# plt.ylim([0,8])\n",
    "plt.grid(linestyle=\"--\", linewidth=0.5, color='b')\n",
    "plt.show()   \n",
    "\n",
    "fig = plt.gcf()\n",
    "fig.set_size_inches(7,5)\n",
    "plt.tight_layout()\n",
    "plt.savefig(\"results/3D_finite_elastic_spherical_inclusion.png\", dpi=600)"
   ]
  }
 ],
 "metadata": {
  "jupytext": {
   "formats": "ipynb,py:light"
  },
  "kernelspec": {
   "display_name": "fenicsx-env",
   "language": "python",
   "name": "python3"
  },
  "language_info": {
   "codemirror_mode": {
    "name": "ipython",
    "version": 3
   },
   "file_extension": ".py",
   "mimetype": "text/x-python",
   "name": "python",
   "nbconvert_exporter": "python",
   "pygments_lexer": "ipython3",
   "version": "3.10.12"
  }
 },
 "nbformat": 4,
 "nbformat_minor": 5
}
